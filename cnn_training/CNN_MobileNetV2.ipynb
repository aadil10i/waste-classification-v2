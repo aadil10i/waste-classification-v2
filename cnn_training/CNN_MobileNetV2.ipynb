{
 "cells": [
  {
   "cell_type": "code",
   "execution_count": 2,
   "metadata": {},
   "outputs": [],
   "source": [
    "import os\n",
    "import tensorflow as tf\n",
    "import matplotlib.pyplot as plt\n",
    "from tensorflow import keras\n",
    "from tensorflow.keras import layers\n",
    "from tensorflow.keras.optimizers import *\n",
    "import numpy as np\n",
    "from sklearn import metrics\n",
    "from sklearn.metrics import confusion_matrix\n",
    "import datetime\n",
    "from keras.utils import plot_model\n",
    "from tensorflow.keras.applications import MobileNetV2  # Import MobileNetV2\n",
    "from tensorflow.keras.utils import image_dataset_from_directory"
   ]
  },
  {
   "cell_type": "code",
   "execution_count": 3,
   "metadata": {},
   "outputs": [],
   "source": [
    "models_path = \"./models/\"\n",
    "\n",
    "training_path = \"C:/Users/AADIL/OneDrive/Documents/WasteImagesDataset/TRAIN\"\n",
    "test_path = \"C:/Users/AADIL/OneDrive/Documents/WasteImagesDataset/TEST\"\n",
    "validation_path = \"C:/Users/AADIL/OneDrive/Documents/WasteImagesDataset/VAL\"\n",
    "\n",
    "IMAGE_WIDTH = 192\n",
    "IMAGE_HEIGHT = 192\n",
    "BATCH_SIZE = 32\n",
    "NUM_CLASSES = 4\n",
    "RANDOM_SEED = 42"
   ]
  },
  {
   "cell_type": "code",
   "execution_count": 4,
   "metadata": {},
   "outputs": [
    {
     "name": "stdout",
     "output_type": "stream",
     "text": [
      "Found 2797 files belonging to 4 classes.\n",
      "Found 755 files belonging to 4 classes.\n",
      "Found 724 files belonging to 4 classes.\n"
     ]
    }
   ],
   "source": [
    "train_dataset = image_dataset_from_directory(\n",
    "    training_path,\n",
    "    label_mode='categorical',\n",
    "    shuffle=True,\n",
    "    seed=RANDOM_SEED,\n",
    "    image_size=(IMAGE_HEIGHT, IMAGE_WIDTH),\n",
    "    batch_size=BATCH_SIZE)\n",
    "\n",
    "validation_dataset = image_dataset_from_directory(\n",
    "    validation_path,\n",
    "    label_mode='categorical',\n",
    "    shuffle=True,\n",
    "    seed=RANDOM_SEED,\n",
    "    image_size=(IMAGE_HEIGHT, IMAGE_WIDTH),\n",
    "    batch_size=BATCH_SIZE)\n",
    "\n",
    "test_dataset = image_dataset_from_directory(\n",
    "    test_path,\n",
    "    label_mode='categorical',\n",
    "    shuffle=False,\n",
    "    seed=RANDOM_SEED,\n",
    "    image_size=(IMAGE_HEIGHT, IMAGE_WIDTH),\n",
    "    batch_size=BATCH_SIZE)"
   ]
  },
  {
   "cell_type": "code",
   "execution_count": 5,
   "metadata": {},
   "outputs": [],
   "source": [
    "def plot_accuracy_loss(history):\n",
    "  acc = history.history['accuracy']\n",
    "  val_acc = history.history['val_accuracy']\n",
    "  loss = history.history['loss']\n",
    "  val_loss = history.history['val_loss']\n",
    "\n",
    "  best_loss_epoch = np.argmin(val_loss)\n",
    "  best_loss = np.min(val_loss)\n",
    "  best_acc = val_acc[best_loss_epoch]\n",
    "\n",
    "  epochs = range(len(acc))\n",
    "\n",
    "  plt.plot(epochs, acc, 'b', label='Training accuracy')\n",
    "  plt.plot(epochs, val_acc, 'bo', label='Validation accuracy')\n",
    "  plt.title('Training and validation accuracy')\n",
    "  plt.legend()\n",
    "  plt.show()\n",
    "\n",
    "  plt.plot(epochs, loss, 'b', label='Training loss')\n",
    "  plt.plot(epochs, val_loss, 'bo', label='Validation loss')\n",
    "  plt.plot(best_loss_epoch, best_loss, 'ro', label='Selected model')\n",
    "  plt.title('Training and validation loss')\n",
    "  plt.legend()\n",
    "  plt.show()\n",
    "  print(f\"Lowest validation loss has been reached at epoch {best_loss_epoch:d} with validation accuracy of {best_acc:.3f}\")\n",
    "\n",
    "def eval (model):\n",
    "  y_score = model.predict(test_dataset)\n",
    "  test_loss, test_acc = model.evaluate(test_dataset)\n",
    "  print(f\"Test accuracy: {test_acc:.3f}, test loss: {test_loss:.3f}\")\n",
    "  y_pred = np.rint(y_score) # to have 0 or 1\n",
    "  y_true = tf.concat([labels_batch for data_batch, labels_batch in test_dataset], axis = 0)\n",
    "  print(\"Classification report: \")\n",
    "  print(type(y_true))\n",
    "  print(type(y_pred))\n",
    "  print(y_pred.argmax(axis=1))\n",
    "  print(metrics.classification_report(y_true.numpy().argmax(axis=1),y_pred.argmax(axis=1),digits = 4))\n",
    "  metrics.ConfusionMatrixDisplay.from_predictions(y_true.numpy().argmax(axis=1), y_pred.argmax(axis=1))\n",
    "     "
   ]
  },
  {
   "cell_type": "code",
   "execution_count": 6,
   "metadata": {},
   "outputs": [
    {
     "name": "stdout",
     "output_type": "stream",
     "text": [
      "WARNING:tensorflow:From c:\\Users\\AADIL\\MAIN\\smart-waste\\.venv\\lib\\site-packages\\keras\\src\\backend.py:873: The name tf.get_default_graph is deprecated. Please use tf.compat.v1.get_default_graph instead.\n",
      "\n",
      "WARNING:tensorflow:From c:\\Users\\AADIL\\MAIN\\smart-waste\\.venv\\lib\\site-packages\\keras\\src\\layers\\normalization\\batch_normalization.py:979: The name tf.nn.fused_batch_norm is deprecated. Please use tf.compat.v1.nn.fused_batch_norm instead.\n",
      "\n",
      "Model: \"model\"\n",
      "_________________________________________________________________\n",
      " Layer (type)                Output Shape              Param #   \n",
      "=================================================================\n",
      " input_2 (InputLayer)        [(None, 192, 192, 3)]     0         \n",
      "                                                                 \n",
      " mobilenetv2_1.00_192 (Func  (None, 6, 6, 1280)        2257984   \n",
      " tional)                                                         \n",
      "                                                                 \n",
      " global_average_pooling2d (  (None, 1280)              0         \n",
      " GlobalAveragePooling2D)                                         \n",
      "                                                                 \n",
      " dense (Dense)               (None, 128)               163968    \n",
      "                                                                 \n",
      " dropout (Dropout)           (None, 128)               0         \n",
      "                                                                 \n",
      " dense_1 (Dense)             (None, 4)                 516       \n",
      "                                                                 \n",
      "=================================================================\n",
      "Total params: 2422468 (9.24 MB)\n",
      "Trainable params: 164484 (642.52 KB)\n",
      "Non-trainable params: 2257984 (8.61 MB)\n",
      "_________________________________________________________________\n"
     ]
    },
    {
     "data": {
      "image/png": "[encoded data removed]",
      "text/plain": [
       "<IPython.core.display.Image object>"
      ]
     },
     "execution_count": 6,
     "metadata": {},
     "output_type": "execute_result"
    }
   ],
   "source": [
    "resize_and_rescale = tf.keras.Sequential([\n",
    "  layers.Resizing(IMAGE_HEIGHT, IMAGE_WIDTH),\n",
    "  layers.Rescaling(1./255)\n",
    "])\n",
    "\n",
    "# Load MobileNetV2 without the top classification layer\n",
    "base_model = MobileNetV2(\n",
    "    weights=\"imagenet\",\n",
    "    include_top=False,\n",
    "    input_shape=(IMAGE_HEIGHT, IMAGE_WIDTH, 3)\n",
    ")\n",
    "\n",
    "# Freeze the base model layers\n",
    "base_model.trainable = False\n",
    "\n",
    "# Create the new model on top\n",
    "inputs = keras.Input(shape=(IMAGE_WIDTH, IMAGE_HEIGHT, 3))\n",
    "x = base_model(inputs, training=False)\n",
    "x = layers.GlobalAveragePooling2D()(x)\n",
    "x = layers.Dense(128, activation='relu')(x)\n",
    "x = layers.Dropout(0.2)(x)\n",
    "outputs = layers.Dense(NUM_CLASSES, activation='softmax')(x)\n",
    "model = keras.Model(inputs, outputs)\n",
    "\n",
    "model.summary()\n",
    "\n",
    "model_name = \"MobileNetV2_TransferLearning\"\n",
    "model_path = os.path.join(models_path, model_name)\n",
    "img_path = os.path.join(model_path, 'MobileNetV2_TransferLearning.png')\n",
    "plot_model(model, show_shapes=True, to_file=img_path, dpi=64)"
   ]
  },
  {
   "cell_type": "code",
   "execution_count": 7,
   "metadata": {},
   "outputs": [],
   "source": [
    "def compile_and_fit(model, model_name, model_path, learning_rate=0.0001, optimizer='adam', train_dataset=train_dataset):\n",
    "\n",
    "  save_path = os.path.join(model_path, model_name + '.h5')\n",
    "\n",
    "  if learning_rate is not None:\n",
    "    optimizer = keras.optimizers.Adam(learning_rate=learning_rate)\n",
    "\n",
    "  model.compile(loss='categorical_crossentropy',\n",
    "                optimizer=optimizer,\n",
    "                metrics=['accuracy'])\n",
    "\n",
    "  callbacks_list = [\n",
    "    keras.callbacks.EarlyStopping(\n",
    "      monitor='val_loss',\n",
    "      min_delta=1e-3,\n",
    "      patience=5,),\n",
    "\n",
    "    keras.callbacks.ModelCheckpoint(\n",
    "      filepath = save_path,\n",
    "      monitor=\"val_loss\",\n",
    "      verbose=1,\n",
    "      save_best_only=True)]\n",
    "\n",
    "  history = model.fit(train_dataset, epochs=30, validation_data=validation_dataset, callbacks=callbacks_list)\n",
    "  plot_accuracy_loss(history)"
   ]
  },
  {
   "cell_type": "code",
   "execution_count": null,
   "metadata": {},
   "outputs": [],
   "source": [
    "compile_and_fit(model, model_name, model_path, learning_rate=0.0001)"
   ]
  },
  {
   "cell_type": "code",
   "execution_count": 9,
   "metadata": {},
   "outputs": [
    {
     "name": "stdout",
     "output_type": "stream",
     "text": [
      "23/23 [==============================] - 26s 1s/step\n",
      "23/23 [==============================] - 26s 819ms/step - loss: 0.4426 - accuracy: 0.8467\n",
      "Test accuracy: 0.847, test loss: 0.443\n",
      "Classification report: \n",
      "<class 'tensorflow.python.framework.ops.EagerTensor'>\n",
      "<class 'numpy.ndarray'>\n",
      "[0 0 0 0 0 0 0 0 0 0 0 0 0 0 0 0 0 0 0 0 0 0 0 0 0 0 0 0 0 0 0 0 0 0 0 3 0\n",
      " 0 0 0 0 0 0 0 2 0 0 0 0 0 0 0 0 0 0 0 0 0 0 0 0 0 0 0 0 0 2 0 0 3 0 0 0 0\n",
      " 0 0 0 0 0 0 0 0 0 0 0 0 0 0 0 1 0 0 0 0 0 0 0 0 0 0 0 0 0 0 0 0 0 0 0 0 0\n",
      " 0 0 0 0 0 0 0 0 0 0 2 2 0 0 0 0 0 0 0 0 0 0 0 0 0 0 0 0 3 0 0 0 0 0 3 0 0\n",
      " 0 0 0 0 0 0 0 0 0 0 0 0 0 0 0 0 0 0 0 3 0 0 0 0 0 0 0 0 0 0 0 0 0 0 0 0 0\n",
      " 0 0 0 0 0 0 0 2 0 0 0 0 2 0 0 0 0 0 3 0 0 0 0 0 0 2 0 1 0 0 0 0 0 0 0 2 0\n",
      " 0 2 0 0 0 0 0 0 0 0 0 2 2 0 0 2 2 2 2 2 1 1 1 1 0 0 1 2 2 1 1 1 1 1 1 1 0\n",
      " 1 1 1 1 1 0 1 2 0 1 1 1 1 1 0 1 2 1 1 1 1 1 1 2 0 1 0 0 1 0 1 0 1 0 2 1 1\n",
      " 2 1 1 1 0 1 1 2 2 2 2 2 2 2 2 2 2 2 2 2 2 2 2 2 2 2 2 2 2 2 2 2 2 2 2 2 2\n",
      " 0 2 2 2 2 2 2 2 0 0 1 2 2 2 2 2 2 2 2 3 2 2 2 2 2 2 2 2 2 2 2 2 0 2 2 2 2\n",
      " 2 2 2 2 2 2 2 0 2 2 2 2 2 2 2 2 2 2 2 2 2 2 2 2 2 2 2 2 2 2 2 2 2 2 2 2 2\n",
      " 3 2 2 2 2 2 2 2 0 2 2 2 2 2 2 2 2 2 2 2 2 2 2 2 2 2 2 2 2 2 2 2 2 2 2 2 2\n",
      " 2 2 2 2 2 2 2 2 2 2 2 2 2 2 2 2 2 2 2 3 2 2 2 3 2 2 2 2 2 2 2 2 2 2 2 2 2\n",
      " 2 2 2 2 2 2 2 3 0 2 2 2 2 2 2 2 2 2 2 2 2 2 2 2 0 2 2 2 2 2 2 2 2 2 2 2 2\n",
      " 2 2 2 2 2 3 2 2 2 2 0 2 2 0 2 2 2 2 2 2 0 3 0 2 2 2 2 2 2 2 2 2 2 2 2 2 2\n",
      " 0 2 2 2 2 2 2 2 2 3 2 2 0 3 0 0 3 3 2 2 0 3 0 0 2 2 0 0 3 3 0 0 0 0 3 3 3\n",
      " 3 3 3 0 3 2 3 3 0 3 1 3 3 3 3 3 3 2 3 0 3 3 3 3 3 3 3 3 3 3 0 3 3 3 3 3 2\n",
      " 3 3 3 3 3 3 3 3 3 3 3 3 3 2 3 0 3 3 3 3 2 3 2 0 0 0 0 3 2 0 3 3 2 3 3 3 3\n",
      " 0 3 3 3 3 2 3 2 3 0 3 3 3 3 3 3 3 2 3 3 3 3 3 3 3 3 2 3 0 0 0 3 2 2 3 2 3\n",
      " 2 3 3 3 3 3 3 3 0 0 0 2 0 0 2 2 0 0 2 2 2]\n",
      "              precision    recall  f1-score   support\n",
      "\n",
      "           0     0.7842    0.9198    0.8466       237\n",
      "           1     0.9111    0.6212    0.7387        66\n",
      "           2     0.8247    0.9195    0.8696       261\n",
      "           3     0.8818    0.6062    0.7185       160\n",
      "\n",
      "    accuracy                         0.8232       724\n",
      "   macro avg     0.8505    0.7667    0.7934       724\n",
      "weighted avg     0.8319    0.8232    0.8167       724\n",
      "\n"
     ]
    },
    {
     "data": {
      "image/png": "[encoded data removed]",
      "text/plain": [
       "<Figure size 640x480 with 2 Axes>"
      ]
     },
     "metadata": {},
     "output_type": "display_data"
    }
   ],
   "source": [
    "eval(tf.keras.models.load_model(os.path.join(model_path, model_name + '.h5')))"
   ]
  }
 ],
 "metadata": {
  "kernelspec": {
   "display_name": ".venv",
   "language": "python",
   "name": "python3"
  },
  "language_info": {
   "codemirror_mode": {
    "name": "ipython",
    "version": 3
   },
   "file_extension": ".py",
   "mimetype": "text/x-python",
   "name": "python",
   "nbconvert_exporter": "python",
   "pygments_lexer": "ipython3",
   "version": "3.9.5"
  }
 },
 "nbformat": 4,
 "nbformat_minor": 2
}
